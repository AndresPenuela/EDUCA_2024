{
 "cells": [
  {
   "cell_type": "markdown",
   "metadata": {},
   "source": [
    "# Onda de sonido 🎵"
   ]
  },
  {
   "cell_type": "markdown",
   "metadata": {},
   "source": [
    "## 1. Definir la ecuacion de una onda de sonido\n",
    "<left><img src=\"util/onda_sonido.gif\" width=\"300px\">\n",
    "\n",
    "Una onda de sonido puede ser representada con una **curva sinusoidal** definida por los parametros: **amplitud, fase y frecuencia**. Para ello usamos la siguiente ecuacion:\n",
    "\n",
    "$y(x) = A \\sin( 2 \\pi (\\nu x + \\phi ))$\n",
    "    \n",
    "\n",
    "donde\n",
    "\n",
    "$A = amplitud$\n",
    "\n",
    "$\\phi = fase$\n",
    "\n",
    "$\\nu = frecuenca$\n",
    "\n",
    "En la celda de abajo vamos a crear una funcion (en Python) que representa dicha ecuacion.\n",
    "    \n",
    "🚨 No olvides que para ejecutar el codigo que hay en la celda debajo de este texto tienes que clicar en dicha celda con el ratón y después pulsar el botón “**▶ Run**” que verás en el menu de arriba o sino también puedes presionar las teclas **shift** (dejandolo pulsado) **+ enter** de tu teclado."
   ]
  },
  {
   "cell_type": "code",
   "execution_count": 2,
   "metadata": {},
   "outputs": [],
   "source": [
    "# importamos las librerias necesarias\n",
    "import numpy as np; import pandas as pd; import matplotlib.pyplot as plt\n",
    "from ipywidgets import interact\n",
    "\n",
    "def onda_sonido(amplitud = 0, frecuencia = 0, fase = 0):\n",
    "    x = np.arange(0, 1, 0.01) # vector de valores de 0 a 1 en intervalos de 0.01\n",
    "    y = amplitud * np.sin(2 * np.pi * (frecuencia * x + fase)) # vector de valores de la onda de sonido\n",
    "    plt.plot(x,y)\n",
    "    plt.ylim(-20,20) # para fijar los limites del eje y, en este caso -20 y 20\n",
    "    y_ref = 3 * np.sin(2 * np.pi * (4 * x + 0.6))\n",
    "    plt.plot(x,y_ref, color = 'black') # para dibujar la onda de referencia (de color negro)\n",
    "    plt.show()"
   ]
  },
  {
   "cell_type": "markdown",
   "metadata": {},
   "source": [
    "### Ejercicio\n",
    "Hemos definido una onda de sonido de referencia la cual vamos a importar y dibujar (curva de color negro). Ademas vamos a dibujar nuestra onda de sonido que hemos definido arriba. En la siguiente celda cambia los valores de amplitud, fase y frecuencia para tratar de ajustar lo mejor que puedas la curva azul a la curva de referencia negra."
   ]
  },
  {
   "cell_type": "code",
   "execution_count": 3,
   "metadata": {},
   "outputs": [
    {
     "data": {
      "application/vnd.jupyter.widget-view+json": {
       "model_id": "9b0688c78d544bb899c027c10a4900d9",
       "version_major": 2,
       "version_minor": 0
      },
      "text/plain": [
       "interactive(children=(IntSlider(value=1, description='amplitud', max=20, min=1), IntSlider(value=1, descriptio…"
      ]
     },
     "metadata": {},
     "output_type": "display_data"
    },
    {
     "data": {
      "text/plain": [
       "<function __main__.onda_sonido(amplitud=0, frecuencia=0, fase=0)>"
      ]
     },
     "execution_count": 3,
     "metadata": {},
     "output_type": "execute_result"
    }
   ],
   "source": [
    "interact(onda_sonido,amplitud = (1,20), frecuencia = (1,10), fase = (0,1,0.1))"
   ]
  },
  {
   "cell_type": "code",
   "execution_count": null,
   "metadata": {},
   "outputs": [],
   "source": []
  }
 ],
 "metadata": {
  "kernelspec": {
   "display_name": "Python 3 (ipykernel)",
   "language": "python",
   "name": "python3"
  },
  "language_info": {
   "codemirror_mode": {
    "name": "ipython",
    "version": 3
   },
   "file_extension": ".py",
   "mimetype": "text/x-python",
   "name": "python",
   "nbconvert_exporter": "python",
   "pygments_lexer": "ipython3",
   "version": "3.10.9"
  },
  "varInspector": {
   "cols": {
    "lenName": 16,
    "lenType": 16,
    "lenVar": 40
   },
   "kernels_config": {
    "python": {
     "delete_cmd_postfix": "",
     "delete_cmd_prefix": "del ",
     "library": "var_list.py",
     "varRefreshCmd": "print(var_dic_list())"
    },
    "r": {
     "delete_cmd_postfix": ") ",
     "delete_cmd_prefix": "rm(",
     "library": "var_list.r",
     "varRefreshCmd": "cat(var_dic_list()) "
    }
   },
   "types_to_exclude": [
    "module",
    "function",
    "builtin_function_or_method",
    "instance",
    "_Feature"
   ],
   "window_display": false
  }
 },
 "nbformat": 4,
 "nbformat_minor": 4
}
