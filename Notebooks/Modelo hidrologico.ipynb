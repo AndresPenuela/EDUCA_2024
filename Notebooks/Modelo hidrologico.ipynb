{
 "cells": [
  {
   "cell_type": "markdown",
   "metadata": {},
   "source": [
    "# Modelo hidrológico\n",
    "En este Notebook vamos a crear un modelo hidrologico y vamos a utilizar widgets interactivos para intentar entender mejor como funciona el modelo, como influencian los parametros del modelo en el resultado y como podemos calibrar el modelo. \n",
    "\n",
    "Primero de todo, ¿que es un modelo hidrologico? Imagina que queremos predecir el hidrograma de un rio que recoje el agua de una cuenca cuando llueve. Para este proposito utilizamos un modelo hidrologico, que no es mas que un conjunto de ecuaciones que describen de una manera simplificada los procesos hidrologicos que ocurren en la cuenca. Estas ecuaciones incluyen diferentes parametros que describen algunas de las propiedades de la cuenca, por ejemplo las caracterisiticas del suelo.\n",
    "\n",
    "<left><img src=\"util/diagrama_cuenca.gif\" width=\"500px\">\n",
    "\n",
    "En este ejemplo, vamos a utilizar un modelo simple (una adaptacion del modelo [HyMOD](https://doi.org/10.1002/9781118665671.ch14)) que tiene 5 parametros:\n",
    "\n",
    "- **Capacidad del suelo** (mm): capacidad que tiene el suelo de retener agua de lluvia\n",
    "- **Tasa de evaporacion**: ratio de evaporacion o proporcion de lluvia que se evapora\n",
    "- **Tasa de infiltracion**: ratio de infiltracion proporcion del agua de lluvia efectiva (que no se evapora) que se infiltra en el suelo.\n",
    "- **Tiempo de viaje - Flujo superficial** (dias): tiempo de concentracion del agua superficial o tiempo que tarda el agua superficial en llegar a la desembocadura de la cuenca.\n",
    "- **Tiempo de viaje - Flujo subterraneo** (dias): tiempo de concentracion del agua subterranea o tiempo que tarda el agua subterranea en llegar a la desembocadura de la cuenca.\n",
    "\n",
    "En la imagen de abajo podemos ver como el modelo representa los procesos hidrologicos para asi obtener finalmente la prediccion del hidrograma del rio para los proximos meses. Como puedes ver el suelo es presentado como un deposito con una cierta capacidad que si es sobrepasada desborda generando flujo superficial y que tambien desaloja agua por su parte inferior generando agua subterranea.\n",
    "\n",
    "<left><img src=\"util/Diagrama_modelo.gif\" width=\"900px\">\n",
    "    \n",
    "Vamos a crear el modelo y probarlo para comprender mejor como funciona.\n",
    "\n",
    "Lo primero como siempre es importar las librerias de funciones que vamos a necesitar\n",
    "    \n",
    "### Definicion del modelo"
   ]
  },
  {
   "cell_type": "code",
   "execution_count": 2,
   "metadata": {},
   "outputs": [],
   "source": [
    "# importamos las librerias necesarias\n",
    "import numpy as np; import pandas as pd; import matplotlib.pyplot as plt\n",
    "from ipywidgets import interact\n",
    "\n",
    "def hyd_model(capacidad_suelo, tasa_evaporacion, tasa_infiltracion, t_superficial, t_subterraneo):\n",
    "    \n",
    "    #######################################################################\n",
    "    # Initialization of variables\n",
    "    #######################################################################\n",
    "    effec_rain = np.zeros((T,1)) # Lluvia efectiva [mm/t]\n",
    "    et          = np.zeros((T,1)) # Tasa de evapotranspiracion [mm/t]\n",
    "    sm          = np.zeros((T+1,1)) # Contenido de humdedad en el suelo [mm] (suponemos que el suelo esta seco inicialmente)\n",
    "    sL          = np.zeros((T+1,1)) # Slow reservoir moisture content [mm]\n",
    "    sF          = np.zeros((T+1,1)) # Fast reservoir moisture content [mm]\n",
    "    q_sub       = np.zeros((T,1)) # Flujo subterraneo [mm/t]\n",
    "    q_sur       = np.zeros((T,1)) # Flujo superficial [mm/t]\n",
    "    \n",
    "    for t in range(1,T):\n",
    "\n",
    "        ##### Lluvia efectiva #####\n",
    "        effec_rain[t] = max(sm[t-1] + prec[t] - capacidad_suelo, 0)\n",
    "\n",
    "        ##### Humedad de suelo temporal #####\n",
    "        sm_temp = max(min(sm[t-1] + prec[t], capacidad_suelo), 0)\n",
    "\n",
    "        ##### Evapotranspiracion #####\n",
    "        W = min(np.abs(sm_temp/capacidad_suelo)*tasa_evaporacion, 1) # Factor de correccion de la evapotranspiracion\n",
    "        et[t] = W * etp[t] # Calculo de la evapotranspiracion\n",
    "\n",
    "        ##### Humedad del suelo #####       \n",
    "        sm[t] = max(min(sm[t-1] + prec[t] - et[t], capacidad_suelo), 0)\n",
    "\n",
    "        ##### Flujo subterraneo ######\n",
    "        sL[t] = sL[t-1] + tasa_infiltracion*effec_rain[t] - q_sub[t-1]\n",
    "        q_sub[t] = 1/t_subterraneo * sL[t]\n",
    "\n",
    "        ##### Flujo superficial #####\n",
    "        sF[t] = sF[t-1] +  (1-tasa_infiltracion)*effec_rain[t] - q_sur[t-1]\n",
    "        q_sur[t] = 1/t_superficial * sF[t]\n",
    "\n",
    "    ##### Flujo total #####\n",
    "    A = 500 * 10000  # ha to m2\n",
    "    Q_sim = (q_sur + q_sub) * 0.001 * A\n",
    "    \n",
    "    return Q_sim"
   ]
  },
  {
   "cell_type": "markdown",
   "metadata": {},
   "source": [
    "## Cargar datos observados de lluvia, evapotranspiracion y caudal\n",
    "Cargamos los datos de precipitación diaria (mm/día), evapotranspiración potencial (mm/día) y flujo de salida (m3/día) observados de 2010 a 2019. Para ello usamos archivo Excel que vamos a cargar y guardar como un dataframe de Pandas."
   ]
  },
  {
   "cell_type": "code",
   "execution_count": 3,
   "metadata": {},
   "outputs": [],
   "source": [
    "obs_data = pd.read_excel('Datos/data example 2.xlsx',index_col = 'date')\n",
    "year_of_study = 2012\n",
    "obs_data_year = obs_data[obs_data.index.year == year_of_study] # para seleccionar solo un año\n",
    "T = len(obs_data_year) # numero de pasos de tiempo\n",
    "# Inputs\n",
    "dates = obs_data_year.index\n",
    "prec  = obs_data_year['rain']\n",
    "etp   = obs_data_year['etp']\n",
    "Q_obs = obs_data_year['outflow']"
   ]
  },
  {
   "cell_type": "markdown",
   "metadata": {},
   "source": [
    "## Calibracion del modelo hidrologico\n",
    "Un modelo hidrologico suele tener un gran número de parámetros. El usuario es quien decide el valor de estos parámetros para una aplicación particular en función de la información y datos que tengamos sobre los parámetros. Normalmente no vamos a tener mediciones directas de los valores de dichos parametros pero si es probable que tengamos datos climaticos historicos y del caudal del rio (hidrograma historico del rio). Con estos datos podemos inferir los valores de los parámetros encontrando los valores que hacen que el resultado del modelo se ajuste mejor al hidrograma historico del rio, esto se denomina **calibración** del modelo.\n",
    "\n",
    "La forma más sencilla de hacer esto es cambiando los valores de los parámetros de uno en uno y observando cómo esto cambia el resultado del modelo y como de bien se ajusta al hidrograma historico. Esto es similar a lo que hicimos en el Notebook [Ejemplo - Onda de Sonido](Ejemplo%20-%20Onda%20de%20Sonido.ipynb), solo que ahora no simulamos una onda de sonido sino el caudal de un rio y ahora no tenemos 3 parametros (amplitud, fase, frecuencia) sino 5 parametros."
   ]
  },
  {
   "cell_type": "markdown",
   "metadata": {},
   "source": [
    "### Bondad de ajuste\n",
    "Para medir si los valores simulados con un modelo están cerca de los valores de los datos observados, utilizamos indicadores de ajuste. Un ejemplo es el Error cuadrático medio (RMSE). El RMSE es la raíz cuadrada de la varianza de los residuos. Indica el ajuste absoluto del modelo a los datos: qué tan cerca están los puntos de datos observados de los valores predichos del modelo. Tiene la propiedad de estar en las mismas unidades que la variable de respuesta. Valores más bajos de RMSE indican un mejor ajuste.\n",
    "\n",
    "$RMSE = \\sqrt{(\\frac{1}{n})\\sum_{i=1}^{n}(sim_{i} - obs_{i})^{2}}$"
   ]
  },
  {
   "cell_type": "code",
   "execution_count": 4,
   "metadata": {},
   "outputs": [],
   "source": [
    "def RMSE_function(obs,sim):\n",
    "    \n",
    "    RMSE = np.sqrt(((sim - obs) ** 2).mean())\n",
    "    return RMSE\n",
    "\n",
    "def NSE_function(obs,sim):\n",
    "    NSE = (1 - (np.sum((sim - obs) ** 2) / np.sum((obs - np.mean(obs))**2)))\n",
    "    \n",
    "    return NSE"
   ]
  },
  {
   "cell_type": "markdown",
   "metadata": {},
   "source": [
    "Intenta ahora, cambiando los valores de los 5 parametros, calibrar el modelo, es decir ajustar el hidrograma que simula el modelo al hidrograma historico."
   ]
  },
  {
   "cell_type": "code",
   "execution_count": 5,
   "metadata": {},
   "outputs": [
    {
     "data": {
      "application/vnd.jupyter.widget-view+json": {
       "model_id": "7edd1429d7be49f2b44da967a8ea82d4",
       "version_major": 2,
       "version_minor": 0
      },
      "text/plain": [
       "interactive(children=(IntSlider(value=5, description='capacidad', max=90, min=5), FloatSlider(value=0.05, desc…"
      ]
     },
     "metadata": {},
     "output_type": "display_data"
    }
   ],
   "source": [
    "@interact(capacidad = (5, 90, 1), tasa_evap = (0.05, 1, 0.05), tasa_infil = (0, 1, 0.05), \n",
    "          tiempo_sup = (0.8,2,0.1), tiempo_sub = (2,30,1))\n",
    "\n",
    "def modelo_hidrologico_v1(capacidad=5, tasa_evap=0.05, tasa_infil=0.0, tiempo_sup=0.8, tiempo_sub=2):\n",
    "    \n",
    "    sim_data_year = pd.DataFrame(0, index=obs_data_year.index, columns = ['rain','outflow'])\n",
    "    sim_data_year['rain'] = obs_data_year['rain']\n",
    "    \n",
    "    # Simulacion\n",
    "    Q_sim = hyd_model(capacidad, tasa_evap, tasa_infil, tiempo_sup, tiempo_sub)\n",
    "    sim_data_year['outflow'] = Q_sim\n",
    "    \n",
    "    RMSE = RMSE_function(Q_obs,sim_data_year['outflow'])\n",
    "\n",
    "    # Visualizacion de resultados  \n",
    "    plt.figure(figsize=(15,5))\n",
    "    plt.plot(dates,Q_obs, label = 'obs', color = 'black')\n",
    "    plt.plot(dates,Q_sim, label = 'sim', color = 'darkblue',alpha = 0.6)\n",
    "    plt.ylim(0,200000)\n",
    "    plt.title('Root mean squared error: '+str(round(RMSE)),fontsize = 15)\n",
    "    plt.legend()\n",
    "    plt.ylabel('m3/day')\n",
    "    plt.show()"
   ]
  },
  {
   "cell_type": "markdown",
   "metadata": {},
   "source": [
    "Comprender el proceso de calibración de un modelo le ayuda a comprender el modelo en sí. Qué significa cada parámetro, qué parámetros influyen más en el resultado y comprobar que el modelo se comporta de forma lógica. Y con elementos interactivos como widgets facilitamos esta tarea y por tanto la comprensión del modelo (por ejemplo hidrológico)"
   ]
  }
 ],
 "metadata": {
  "kernelspec": {
   "display_name": "Python 3 (ipykernel)",
   "language": "python",
   "name": "python3"
  },
  "language_info": {
   "codemirror_mode": {
    "name": "ipython",
    "version": 3
   },
   "file_extension": ".py",
   "mimetype": "text/x-python",
   "name": "python",
   "nbconvert_exporter": "python",
   "pygments_lexer": "ipython3",
   "version": "3.10.9"
  },
  "varInspector": {
   "cols": {
    "lenName": 16,
    "lenType": 16,
    "lenVar": 40
   },
   "kernels_config": {
    "python": {
     "delete_cmd_postfix": "",
     "delete_cmd_prefix": "del ",
     "library": "var_list.py",
     "varRefreshCmd": "print(var_dic_list())"
    },
    "r": {
     "delete_cmd_postfix": ") ",
     "delete_cmd_prefix": "rm(",
     "library": "var_list.r",
     "varRefreshCmd": "cat(var_dic_list()) "
    }
   },
   "types_to_exclude": [
    "module",
    "function",
    "builtin_function_or_method",
    "instance",
    "_Feature"
   ],
   "window_display": false
  }
 },
 "nbformat": 4,
 "nbformat_minor": 4
}
